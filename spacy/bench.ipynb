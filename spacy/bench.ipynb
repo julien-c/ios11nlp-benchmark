{
 "cells": [
  {
   "cell_type": "code",
   "execution_count": 1,
   "metadata": {
    "collapsed": true
   },
   "outputs": [],
   "source": [
    "from __future__ import unicode_literals\n",
    "import spacy\n",
    "nlp = spacy.load('en')"
   ]
  },
  {
   "cell_type": "code",
   "execution_count": 53,
   "metadata": {
    "collapsed": true
   },
   "outputs": [],
   "source": [
    "dataset = \"valid\""
   ]
  },
  {
   "cell_type": "code",
   "execution_count": 54,
   "metadata": {},
   "outputs": [],
   "source": [
    "import os\n",
    "fname = os.getcwd() + \"/data/conll2003/en/%s.txt\" % dataset\n",
    "f = open(fname)\n",
    "content = f.readlines()"
   ]
  },
  {
   "cell_type": "code",
   "execution_count": 55,
   "metadata": {
    "collapsed": true
   },
   "outputs": [],
   "source": [
    "def tokenDescr(tok):\n",
    "    if tok.ent_iob_ == \"O\":\n",
    "        return tok.ent_iob_\n",
    "    if tok.ent_type_ in ['DATE', 'TIME', 'PERCENT', 'MONEY', 'QUANTITY', 'ORDINAL', 'CARDINAL']:\n",
    "        return \"O\"\n",
    "    mapping = {\n",
    "        \"PERSON\": \"PER\",\n",
    "        \"NORP\": \"LOC\",\n",
    "        \"FACILITY\": \"LOC\",\n",
    "        \"ORG\": \"ORG\",\n",
    "        \"GPE\": \"LOC\",\n",
    "        \"LOC\": \"LOC\",\n",
    "        \"PRODUCT\": \"MISC\",\n",
    "        \"EVENT\": \"MISC\",\n",
    "        \"WORK_OF_ART\": \"MISC\",\n",
    "    }\n",
    "    if tok.ent_type_ in mapping:\n",
    "        return tok.ent_iob_ + '-' + mapping[tok.ent_type_]\n",
    "    else:\n",
    "        return tok.ent_iob_ + '-MISC'"
   ]
  },
  {
   "cell_type": "code",
   "execution_count": 56,
   "metadata": {},
   "outputs": [],
   "source": [
    "output = []\n",
    "ok = 0\n",
    "ko = 0\n",
    "def handleSentence(s):\n",
    "    global ok, ko\n",
    "    text = ' '.join([o[0] for o in s])\n",
    "    doc = nlp(text)\n",
    "    # print(len(s), len(doc))\n",
    "    if len(s) == len(doc):\n",
    "        ok += 1\n",
    "        ####\n",
    "        ####\n",
    "        for idx, o in enumerate(s):\n",
    "            tok = doc[idx]\n",
    "            output.append(' '.join([o[0], o[-1], tokenDescr(tok)]))\n",
    "        # End of sentence\n",
    "        output.append(' ')\n",
    "    else:\n",
    "        ko += 1\n",
    "        # Discard samples with different tokenizations \n",
    "    \n"
   ]
  },
  {
   "cell_type": "code",
   "execution_count": 57,
   "metadata": {
    "collapsed": true
   },
   "outputs": [],
   "source": [
    "dummy = []\n",
    "def dummyOutput(l):\n",
    "    dummy.append(l)"
   ]
  },
  {
   "cell_type": "code",
   "execution_count": 58,
   "metadata": {},
   "outputs": [],
   "source": [
    "currSentence = []\n",
    "\n",
    "for x in content:\n",
    "    x = x.strip()\n",
    "    if x.startswith('-DOCSTART-'):\n",
    "        continue\n",
    "    if x == '':\n",
    "        dummyOutput('')\n",
    "        text = ' '.join([o[0] for o in currSentence])\n",
    "        handleSentence(currSentence)\n",
    "        # handle sentence\n",
    "        currSentence = []\n",
    "    else:\n",
    "        objs = x.split(' ')\n",
    "        # print objs\n",
    "        dummyOutput(x+' '+objs[-1])\n",
    "        currSentence.append((objs[0], objs[-1]))\n",
    "        "
   ]
  },
  {
   "cell_type": "code",
   "execution_count": 59,
   "metadata": {},
   "outputs": [
    {
     "data": {
      "text/plain": [
       "(2422, 1044)"
      ]
     },
     "execution_count": 59,
     "metadata": {},
     "output_type": "execute_result"
    }
   ],
   "source": [
    "ok, ko"
   ]
  },
  {
   "cell_type": "code",
   "execution_count": 60,
   "metadata": {},
   "outputs": [],
   "source": [
    "def writeToFile(fname, tokens):\n",
    "    with open(fname, 'w') as f:\n",
    "        f.write('\\n'.join(tokens))\n"
   ]
  },
  {
   "cell_type": "code",
   "execution_count": 61,
   "metadata": {
    "collapsed": true
   },
   "outputs": [],
   "source": [
    "writeToFile('dummy.txt', dummy)"
   ]
  },
  {
   "cell_type": "code",
   "execution_count": 62,
   "metadata": {
    "collapsed": true
   },
   "outputs": [],
   "source": [
    "writeToFile(\"%s-output.txt\" % dataset, output)"
   ]
  },
  {
   "cell_type": "code",
   "execution_count": null,
   "metadata": {
    "collapsed": true
   },
   "outputs": [],
   "source": []
  }
 ],
 "metadata": {
  "kernelspec": {
   "display_name": "Python 2",
   "language": "python",
   "name": "python2"
  },
  "language_info": {
   "codemirror_mode": {
    "name": "ipython",
    "version": 2
   },
   "file_extension": ".py",
   "mimetype": "text/x-python",
   "name": "python",
   "nbconvert_exporter": "python",
   "pygments_lexer": "ipython2",
   "version": "2.7.10"
  }
 },
 "nbformat": 4,
 "nbformat_minor": 2
}
